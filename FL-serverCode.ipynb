{
 "cells": [
  {
   "cell_type": "code",
   "execution_count": 3,
   "metadata": {},
   "outputs": [],
   "source": [
    "# %load_ext autoreload\n",
    "\n",
    "# %autoreload 2\n",
    "\n",
    "# load libraries\n",
    "\n",
    "import sys\n",
    "import syft as sy\n",
    "from syft.workers.virtual import VirtualWorker\n",
    "from syft.workers import WebsocketClientWorker\n",
    "from syft import FederatedDataset, FederatedDataLoader, BaseDataset\n",
    "import torch\n",
    "from torch import nn\n",
    "from torch import optim\n",
    "from torchvision import datasets, transforms, models, utils\n",
    "from syft.frameworks.torch.federated import utils"
   ]
  },
  {
   "cell_type": "code",
   "execution_count": 4,
   "metadata": {},
   "outputs": [],
   "source": [
    "# import model to share and other client nn-related functionalities such as: next batch, train, get params...\n",
    "import run_websocket_client as rwc"
   ]
  },
  {
   "cell_type": "code",
   "execution_count": 6,
   "metadata": {},
   "outputs": [
    {
     "name": "stdout",
     "output_type": "stream",
     "text": [
      "Namespace(batch_size=64, cuda=False, epochs=2, federate_after_n_batches=50, lr=0.01, save_model=False, seed=1, test_batch_size=1000, use_virtual=False, verbose=False)\n"
     ]
    }
   ],
   "source": [
    "args = rwc.define_and_get_arguments(args=[])\n",
    "use_cuda = args.cuda and torch.cuda.is_available()\n",
    "torch.manual_seed(args.seed)\n",
    "device = torch.device(\"cuda\" if use_cuda else \"cpu\")\n",
    "print(args)"
   ]
  },
  {
   "cell_type": "code",
   "execution_count": 7,
   "metadata": {},
   "outputs": [
    {
     "name": "stderr",
     "output_type": "stream",
     "text": [
      "W0818 18:12:42.679344 4705670592 hook.py:98] Torch was already hooked... skipping hooking process\n"
     ]
    },
    {
     "name": "stdout",
     "output_type": "stream",
     "text": [
      "[<WebsocketClientWorker id:alice #objects local:0 #objects remote: 0>, <WebsocketClientWorker id:bob #objects local:0 #objects remote: 0>, <WebsocketClientWorker id:charlie #objects local:0 #objects remote: 0>]\n"
     ]
    }
   ],
   "source": [
    "# websocket clients and workers instantiation. This step will fall if the websocket server workers are not running\n",
    "hook = sy.TorchHook(torch)\n",
    "\n",
    "kwargs_websocket = {\"host\": \"localhost\", \"hook\": hook, \"verbose\": args.verbose}\n",
    "alice = WebsocketClientWorker(id=\"alice\", port=8777, **kwargs_websocket)\n",
    "bob = WebsocketClientWorker(id=\"bob\", port=8778, **kwargs_websocket)\n",
    "charlie = WebsocketClientWorker(id=\"charlie\", port=8779, **kwargs_websocket)\n",
    "\n",
    "workers = [alice, bob, charlie]\n",
    "print(workers)"
   ]
  },
  {
   "cell_type": "markdown",
   "metadata": {},
   "source": [
    "# Prepare and distribute the training data"
   ]
  },
  {
   "cell_type": "code",
   "execution_count": null,
   "metadata": {},
   "outputs": [],
   "source": []
  },
  {
   "cell_type": "code",
   "execution_count": null,
   "metadata": {},
   "outputs": [],
   "source": [
    "# number of subprocesses to use for data loading\n",
    "num_workers = 4\n",
    "# how many samples per batch to load\n",
    "batch_size = 1\n",
    "# Images size to rescale\n",
    "img_size = (512,512)\n",
    "# percentage of training set to use as validation\n",
    "valid_size = 0.2\n",
    "\n",
    "data_dir = '~/Documents/SecureAndPrivateChallenge/sg-intro-ai-challenge/CNN - Eye Diseases/Data 15/'\n",
    "transform = transforms.Compose([\n",
    "    transforms.ToPILImage(),\n",
    "    transforms.Resize(img_size),\n",
    "    transforms.ToTensor(),\n",
    "    transforms.Normalize((0.5, 0.5, 0.5), (0.5, 0.5, 0.5))\n",
    "    ])"
   ]
  },
  {
   "cell_type": "code",
   "execution_count": null,
   "metadata": {},
   "outputs": [],
   "source": [
    "eye_dataset = simpleImageLoader(csv_file='~/Documents/SecureAndPrivateChallenge/sg-intro-ai-challenge/CNN - Eye Diseases/labels/trainLabels15.csv',\n",
    "                                    root_dir='~/Documents/SecureAndPrivateChallenge/sg-intro-ai-challenge/CNN - Eye Diseases/Data 15/train 15',\n",
    "                                    transform = transform)  "
   ]
  },
  {
   "cell_type": "code",
   "execution_count": null,
   "metadata": {},
   "outputs": [],
   "source": [
    "eye_dataloader = torch.utils.data.DataLoader(eye_dataset, batch_size=batch_size,\n",
    "                        shuffle=False, num_workers=num_workers)"
   ]
  },
  {
   "cell_type": "code",
   "execution_count": 10,
   "metadata": {},
   "outputs": [
    {
     "name": "stdout",
     "output_type": "stream",
     "text": [
      "Downloading http://yann.lecun.com/exdb/mnist/train-images-idx3-ubyte.gz to ../data/MNIST/MNIST/raw/train-images-idx3-ubyte.gz\n"
     ]
    },
    {
     "name": "stderr",
     "output_type": "stream",
     "text": [
      "100.1%"
     ]
    },
    {
     "name": "stdout",
     "output_type": "stream",
     "text": [
      "Extracting ../data/MNIST/MNIST/raw/train-images-idx3-ubyte.gz\n",
      "Downloading http://yann.lecun.com/exdb/mnist/train-labels-idx1-ubyte.gz to ../data/MNIST/MNIST/raw/train-labels-idx1-ubyte.gz\n"
     ]
    },
    {
     "name": "stderr",
     "output_type": "stream",
     "text": [
      "113.5%"
     ]
    },
    {
     "name": "stdout",
     "output_type": "stream",
     "text": [
      "Extracting ../data/MNIST/MNIST/raw/train-labels-idx1-ubyte.gz\n",
      "Downloading http://yann.lecun.com/exdb/mnist/t10k-images-idx3-ubyte.gz to ../data/MNIST/MNIST/raw/t10k-images-idx3-ubyte.gz\n"
     ]
    },
    {
     "name": "stderr",
     "output_type": "stream",
     "text": [
      "100.4%"
     ]
    },
    {
     "name": "stdout",
     "output_type": "stream",
     "text": [
      "Extracting ../data/MNIST/MNIST/raw/t10k-images-idx3-ubyte.gz\n",
      "Downloading http://yann.lecun.com/exdb/mnist/t10k-labels-idx1-ubyte.gz to ../data/MNIST/MNIST/raw/t10k-labels-idx1-ubyte.gz\n"
     ]
    },
    {
     "name": "stderr",
     "output_type": "stream",
     "text": [
      "180.4%"
     ]
    },
    {
     "name": "stdout",
     "output_type": "stream",
     "text": [
      "Extracting ../data/MNIST/MNIST/raw/t10k-labels-idx1-ubyte.gz\n",
      "Processing...\n",
      "Done!\n"
     ]
    },
    {
     "data": {
      "text/plain": [
       "<torch.utils.data.dataloader.DataLoader at 0x143bc8780>"
      ]
     },
     "execution_count": 10,
     "metadata": {},
     "output_type": "execute_result"
    }
   ],
   "source": [
    "#run this box only if the the next box gives pipeline error\n",
    "torch.utils.data.DataLoader(\n",
    "    datasets.MNIST(\n",
    "        \"../data/MNIST\",\n",
    "        train=True,download=True))\n",
    "\n"
   ]
  },
  {
   "cell_type": "code",
   "execution_count": 11,
   "metadata": {},
   "outputs": [],
   "source": [
    "# Download the MNIST dataset and use federated dataloader\n",
    "\n",
    "federated_train_loader = sy.FederatedDataLoader(\n",
    "    datasets.MNIST(\n",
    "        \"../data/MNIST\",\n",
    "        train=True,\n",
    "        download=True,\n",
    "        transform=transforms.Compose(\n",
    "            [transforms.ToTensor(), transforms.Normalize((0.1307,), (0.3081,))]\n",
    "        ),\n",
    "    ).federate(tuple(workers)),\n",
    "    batch_size=args.batch_size,\n",
    "    shuffle=True,\n",
    "    iter_per_worker=True\n",
    ")\n",
    "\n",
    "test_loader = torch.utils.data.DataLoader(\n",
    "    datasets.MNIST(\n",
    "        \"../data/MNIST\",\n",
    "        train=False,\n",
    "        transform=transforms.Compose(\n",
    "            [transforms.ToTensor(), transforms.Normalize((0.1307,), (0.3081,))]\n",
    "        ),\n",
    "    ),\n",
    "    batch_size=args.test_batch_size,\n",
    "    shuffle=True\n",
    ")\n",
    "\n"
   ]
  },
  {
   "cell_type": "code",
   "execution_count": 12,
   "metadata": {},
   "outputs": [
    {
     "name": "stdout",
     "output_type": "stream",
     "text": [
      "Net(\n",
      "  (conv1): Conv2d(1, 20, kernel_size=(5, 5), stride=(1, 1))\n",
      "  (conv2): Conv2d(20, 50, kernel_size=(5, 5), stride=(1, 1))\n",
      "  (fc1): Linear(in_features=800, out_features=500, bias=True)\n",
      "  (fc2): Linear(in_features=500, out_features=10, bias=True)\n",
      ")\n"
     ]
    }
   ],
   "source": [
    "# instantiate the model, imported from run_websocket_client.py\n",
    "# it is a 2 layers conv net\n",
    "model = rwc.Net().to(device)\n",
    "print(model)"
   ]
  },
  {
   "cell_type": "code",
   "execution_count": 13,
   "metadata": {},
   "outputs": [],
   "source": [
    "import logging\n",
    "import sys\n",
    "logger = logging.getLogger()\n",
    "logger.setLevel(logging.DEBUG)\n",
    "handler = logging.StreamHandler(sys.stderr)\n",
    "formatter = logging.Formatter(\"%(asctime)s %(levelname)s %(filename)s(l:%(lineno)d) - %(message)s\")\n",
    "handler.setFormatter(formatter)\n",
    "logger.handlers = [handler]"
   ]
  },
  {
   "cell_type": "code",
   "execution_count": 14,
   "metadata": {},
   "outputs": [
    {
     "name": "stdout",
     "output_type": "stream",
     "text": [
      "Starting epoch 1/2\n"
     ]
    },
    {
     "name": "stderr",
     "output_type": "stream",
     "text": [
      "2019-08-18 18:16:32,669 DEBUG run_websocket_client.py(l:123) - Starting training round, batches [0, 50]\n",
      "2019-08-18 18:16:32,951 DEBUG run_websocket_client.py(l:75) - Train Worker alice: [0/50 (0%)]\tLoss: 2.310694\n",
      "2019-08-18 18:16:34,910 DEBUG run_websocket_client.py(l:75) - Train Worker alice: [25/50 (50%)]\tLoss: 2.204401\n",
      "2019-08-18 18:16:39,896 DEBUG run_websocket_client.py(l:75) - Train Worker bob: [0/50 (0%)]\tLoss: 2.298535\n",
      "2019-08-18 18:16:41,876 DEBUG run_websocket_client.py(l:75) - Train Worker bob: [25/50 (50%)]\tLoss: 2.222379\n",
      "2019-08-18 18:16:46,807 DEBUG run_websocket_client.py(l:75) - Train Worker charlie: [0/50 (0%)]\tLoss: 2.314186\n",
      "2019-08-18 18:16:48,934 DEBUG run_websocket_client.py(l:75) - Train Worker charlie: [25/50 (50%)]\tLoss: 2.209582\n",
      "2019-08-18 18:17:05,735 DEBUG run_websocket_client.py(l:123) - Starting training round, batches [50, 100]\n",
      "2019-08-18 18:17:05,983 DEBUG run_websocket_client.py(l:75) - Train Worker alice: [0/50 (0%)]\tLoss: 2.071484\n",
      "2019-08-18 18:17:07,956 DEBUG run_websocket_client.py(l:75) - Train Worker alice: [25/50 (50%)]\tLoss: 1.756466\n",
      "2019-08-18 18:17:12,885 DEBUG run_websocket_client.py(l:75) - Train Worker bob: [0/50 (0%)]\tLoss: 2.031766\n",
      "2019-08-18 18:17:14,838 DEBUG run_websocket_client.py(l:75) - Train Worker bob: [25/50 (50%)]\tLoss: 1.829445\n",
      "2019-08-18 18:17:19,646 DEBUG run_websocket_client.py(l:75) - Train Worker charlie: [0/50 (0%)]\tLoss: 2.106294\n",
      "2019-08-18 18:17:21,599 DEBUG run_websocket_client.py(l:75) - Train Worker charlie: [25/50 (50%)]\tLoss: 1.713583\n",
      "2019-08-18 18:17:38,089 DEBUG run_websocket_client.py(l:123) - Starting training round, batches [100, 150]\n",
      "2019-08-18 18:17:38,331 DEBUG run_websocket_client.py(l:75) - Train Worker alice: [0/50 (0%)]\tLoss: 1.196806\n",
      "2019-08-18 18:17:40,285 DEBUG run_websocket_client.py(l:75) - Train Worker alice: [25/50 (50%)]\tLoss: 0.914078\n",
      "2019-08-18 18:17:45,081 DEBUG run_websocket_client.py(l:75) - Train Worker bob: [0/50 (0%)]\tLoss: 1.225457\n",
      "2019-08-18 18:17:47,034 DEBUG run_websocket_client.py(l:75) - Train Worker bob: [25/50 (50%)]\tLoss: 0.988006\n",
      "2019-08-18 18:17:51,826 DEBUG run_websocket_client.py(l:75) - Train Worker charlie: [0/50 (0%)]\tLoss: 1.251257\n",
      "2019-08-18 18:17:53,778 DEBUG run_websocket_client.py(l:75) - Train Worker charlie: [25/50 (50%)]\tLoss: 0.804594\n",
      "2019-08-18 18:18:10,274 DEBUG run_websocket_client.py(l:123) - Starting training round, batches [150, 200]\n",
      "2019-08-18 18:18:10,519 DEBUG run_websocket_client.py(l:75) - Train Worker alice: [0/50 (0%)]\tLoss: 0.593548\n",
      "2019-08-18 18:18:12,486 DEBUG run_websocket_client.py(l:75) - Train Worker alice: [25/50 (50%)]\tLoss: 0.623752\n",
      "2019-08-18 18:18:17,245 DEBUG run_websocket_client.py(l:75) - Train Worker bob: [0/50 (0%)]\tLoss: 0.602616\n",
      "2019-08-18 18:18:19,191 DEBUG run_websocket_client.py(l:75) - Train Worker bob: [25/50 (50%)]\tLoss: 0.504525\n",
      "2019-08-18 18:18:23,997 DEBUG run_websocket_client.py(l:75) - Train Worker charlie: [0/50 (0%)]\tLoss: 0.615978\n",
      "2019-08-18 18:18:25,947 DEBUG run_websocket_client.py(l:75) - Train Worker charlie: [25/50 (50%)]\tLoss: 0.596646\n",
      "2019-08-18 18:18:42,446 DEBUG run_websocket_client.py(l:123) - Starting training round, batches [200, 250]\n",
      "2019-08-18 18:18:42,678 DEBUG run_websocket_client.py(l:75) - Train Worker alice: [0/50 (0%)]\tLoss: 0.370412\n",
      "2019-08-18 18:18:44,630 DEBUG run_websocket_client.py(l:75) - Train Worker alice: [25/50 (50%)]\tLoss: 0.519508\n",
      "2019-08-18 18:18:49,559 DEBUG run_websocket_client.py(l:75) - Train Worker bob: [0/50 (0%)]\tLoss: 0.387358\n",
      "2019-08-18 18:18:51,521 DEBUG run_websocket_client.py(l:75) - Train Worker bob: [25/50 (50%)]\tLoss: 0.425237\n",
      "2019-08-18 18:18:56,362 DEBUG run_websocket_client.py(l:75) - Train Worker charlie: [0/50 (0%)]\tLoss: 0.468491\n",
      "2019-08-18 18:18:58,332 DEBUG run_websocket_client.py(l:75) - Train Worker charlie: [25/50 (50%)]\tLoss: 0.269910\n",
      "2019-08-18 18:19:15,038 DEBUG run_websocket_client.py(l:123) - Starting training round, batches [250, 300]\n",
      "2019-08-18 18:19:15,271 DEBUG run_websocket_client.py(l:75) - Train Worker alice: [0/50 (0%)]\tLoss: 0.275220\n",
      "2019-08-18 18:19:17,234 DEBUG run_websocket_client.py(l:75) - Train Worker alice: [25/50 (50%)]\tLoss: 0.284108\n",
      "2019-08-18 18:19:22,054 DEBUG run_websocket_client.py(l:75) - Train Worker bob: [0/50 (0%)]\tLoss: 0.287062\n",
      "2019-08-18 18:19:23,997 DEBUG run_websocket_client.py(l:75) - Train Worker bob: [25/50 (50%)]\tLoss: 0.333116\n",
      "2019-08-18 18:19:28,801 DEBUG run_websocket_client.py(l:75) - Train Worker charlie: [0/50 (0%)]\tLoss: 0.308893\n",
      "2019-08-18 18:19:30,757 DEBUG run_websocket_client.py(l:75) - Train Worker charlie: [25/50 (50%)]\tLoss: 0.366407\n",
      "2019-08-18 18:19:38,354 DEBUG run_websocket_client.py(l:123) - Starting training round, batches [300, 350]\n",
      "2019-08-18 18:19:38,592 DEBUG run_websocket_client.py(l:75) - Train Worker alice: [0/13 (0%)]\tLoss: 0.289049\n",
      "2019-08-18 18:19:42,416 DEBUG run_websocket_client.py(l:75) - Train Worker bob: [0/13 (0%)]\tLoss: 0.315056\n",
      "2019-08-18 18:19:46,224 DEBUG run_websocket_client.py(l:75) - Train Worker charlie: [0/13 (0%)]\tLoss: 0.173183\n",
      "2019-08-18 18:19:49,831 DEBUG run_websocket_client.py(l:123) - Starting training round, batches [350, 400]\n",
      "2019-08-18 18:19:49,842 DEBUG run_websocket_client.py(l:136) - At least one worker ran out of data, stopping.\n",
      "2019-08-18 18:19:53,920 DEBUG run_websocket_client.py(l:158) - \n",
      "\n",
      "2019-08-18 18:19:53,921 INFO run_websocket_client.py(l:162) - Test set: Average loss: 0.3284, Accuracy: 9022/10000 (90%)\n",
      "\n"
     ]
    },
    {
     "name": "stdout",
     "output_type": "stream",
     "text": [
      "Starting epoch 2/2\n"
     ]
    },
    {
     "name": "stderr",
     "output_type": "stream",
     "text": [
      "2019-08-18 18:20:05,853 DEBUG run_websocket_client.py(l:123) - Starting training round, batches [0, 50]\n",
      "2019-08-18 18:20:06,055 DEBUG run_websocket_client.py(l:75) - Train Worker alice: [0/50 (0%)]\tLoss: 0.271137\n",
      "2019-08-18 18:20:08,017 DEBUG run_websocket_client.py(l:75) - Train Worker alice: [25/50 (50%)]\tLoss: 0.448815\n",
      "2019-08-18 18:20:12,860 DEBUG run_websocket_client.py(l:75) - Train Worker bob: [0/50 (0%)]\tLoss: 0.380333\n",
      "2019-08-18 18:20:14,818 DEBUG run_websocket_client.py(l:75) - Train Worker bob: [25/50 (50%)]\tLoss: 0.445510\n",
      "2019-08-18 18:20:19,612 DEBUG run_websocket_client.py(l:75) - Train Worker charlie: [0/50 (0%)]\tLoss: 0.381651\n",
      "2019-08-18 18:20:21,568 DEBUG run_websocket_client.py(l:75) - Train Worker charlie: [25/50 (50%)]\tLoss: 0.317997\n",
      "2019-08-18 18:20:39,716 DEBUG run_websocket_client.py(l:123) - Starting training round, batches [50, 100]\n",
      "2019-08-18 18:20:39,952 DEBUG run_websocket_client.py(l:75) - Train Worker alice: [0/50 (0%)]\tLoss: 0.275536\n",
      "2019-08-18 18:20:41,917 DEBUG run_websocket_client.py(l:75) - Train Worker alice: [25/50 (50%)]\tLoss: 0.230332\n",
      "2019-08-18 18:20:46,805 DEBUG run_websocket_client.py(l:75) - Train Worker bob: [0/50 (0%)]\tLoss: 0.331775\n",
      "2019-08-18 18:20:48,887 DEBUG run_websocket_client.py(l:75) - Train Worker bob: [25/50 (50%)]\tLoss: 0.348591\n",
      "2019-08-18 18:20:53,701 DEBUG run_websocket_client.py(l:75) - Train Worker charlie: [0/50 (0%)]\tLoss: 0.205202\n",
      "2019-08-18 18:20:55,665 DEBUG run_websocket_client.py(l:75) - Train Worker charlie: [25/50 (50%)]\tLoss: 0.296329\n",
      "2019-08-18 18:21:12,556 DEBUG run_websocket_client.py(l:123) - Starting training round, batches [100, 150]\n",
      "2019-08-18 18:21:12,786 DEBUG run_websocket_client.py(l:75) - Train Worker alice: [0/50 (0%)]\tLoss: 0.410404\n",
      "2019-08-18 18:21:14,749 DEBUG run_websocket_client.py(l:75) - Train Worker alice: [25/50 (50%)]\tLoss: 0.126654\n",
      "2019-08-18 18:21:19,603 DEBUG run_websocket_client.py(l:75) - Train Worker bob: [0/50 (0%)]\tLoss: 0.192042\n",
      "2019-08-18 18:21:21,553 DEBUG run_websocket_client.py(l:75) - Train Worker bob: [25/50 (50%)]\tLoss: 0.179276\n",
      "2019-08-18 18:21:26,385 DEBUG run_websocket_client.py(l:75) - Train Worker charlie: [0/50 (0%)]\tLoss: 0.309444\n",
      "2019-08-18 18:21:28,343 DEBUG run_websocket_client.py(l:75) - Train Worker charlie: [25/50 (50%)]\tLoss: 0.509986\n",
      "2019-08-18 18:21:44,935 DEBUG run_websocket_client.py(l:123) - Starting training round, batches [150, 200]\n",
      "2019-08-18 18:21:45,163 DEBUG run_websocket_client.py(l:75) - Train Worker alice: [0/50 (0%)]\tLoss: 0.121251\n",
      "2019-08-18 18:21:47,144 DEBUG run_websocket_client.py(l:75) - Train Worker alice: [25/50 (50%)]\tLoss: 0.334358\n",
      "2019-08-18 18:21:51,998 DEBUG run_websocket_client.py(l:75) - Train Worker bob: [0/50 (0%)]\tLoss: 0.240654\n",
      "2019-08-18 18:21:53,954 DEBUG run_websocket_client.py(l:75) - Train Worker bob: [25/50 (50%)]\tLoss: 0.252180\n",
      "2019-08-18 18:21:58,763 DEBUG run_websocket_client.py(l:75) - Train Worker charlie: [0/50 (0%)]\tLoss: 0.243296\n",
      "2019-08-18 18:22:00,710 DEBUG run_websocket_client.py(l:75) - Train Worker charlie: [25/50 (50%)]\tLoss: 0.151699\n",
      "2019-08-18 18:22:17,318 DEBUG run_websocket_client.py(l:123) - Starting training round, batches [200, 250]\n",
      "2019-08-18 18:22:17,553 DEBUG run_websocket_client.py(l:75) - Train Worker alice: [0/50 (0%)]\tLoss: 0.177006\n",
      "2019-08-18 18:22:19,507 DEBUG run_websocket_client.py(l:75) - Train Worker alice: [25/50 (50%)]\tLoss: 0.169633\n",
      "2019-08-18 18:22:24,358 DEBUG run_websocket_client.py(l:75) - Train Worker bob: [0/50 (0%)]\tLoss: 0.294222\n",
      "2019-08-18 18:22:26,306 DEBUG run_websocket_client.py(l:75) - Train Worker bob: [25/50 (50%)]\tLoss: 0.263485\n",
      "2019-08-18 18:22:31,154 DEBUG run_websocket_client.py(l:75) - Train Worker charlie: [0/50 (0%)]\tLoss: 0.191893\n",
      "2019-08-18 18:22:33,110 DEBUG run_websocket_client.py(l:75) - Train Worker charlie: [25/50 (50%)]\tLoss: 0.231947\n",
      "2019-08-18 18:22:49,987 DEBUG run_websocket_client.py(l:123) - Starting training round, batches [250, 300]\n",
      "2019-08-18 18:22:50,220 DEBUG run_websocket_client.py(l:75) - Train Worker alice: [0/50 (0%)]\tLoss: 0.224858\n",
      "2019-08-18 18:22:52,190 DEBUG run_websocket_client.py(l:75) - Train Worker alice: [25/50 (50%)]\tLoss: 0.322535\n",
      "2019-08-18 18:22:57,042 DEBUG run_websocket_client.py(l:75) - Train Worker bob: [0/50 (0%)]\tLoss: 0.208002\n",
      "2019-08-18 18:22:58,993 DEBUG run_websocket_client.py(l:75) - Train Worker bob: [25/50 (50%)]\tLoss: 0.579002\n",
      "2019-08-18 18:23:03,854 DEBUG run_websocket_client.py(l:75) - Train Worker charlie: [0/50 (0%)]\tLoss: 0.093356\n",
      "2019-08-18 18:23:05,848 DEBUG run_websocket_client.py(l:75) - Train Worker charlie: [25/50 (50%)]\tLoss: 0.251174\n",
      "2019-08-18 18:23:13,548 DEBUG run_websocket_client.py(l:123) - Starting training round, batches [300, 350]\n",
      "2019-08-18 18:23:13,782 DEBUG run_websocket_client.py(l:75) - Train Worker alice: [0/13 (0%)]\tLoss: 0.232107\n",
      "2019-08-18 18:23:17,649 DEBUG run_websocket_client.py(l:75) - Train Worker bob: [0/13 (0%)]\tLoss: 0.103532\n",
      "2019-08-18 18:23:21,525 DEBUG run_websocket_client.py(l:75) - Train Worker charlie: [0/13 (0%)]\tLoss: 0.352964\n",
      "2019-08-18 18:23:25,161 DEBUG run_websocket_client.py(l:123) - Starting training round, batches [350, 400]\n",
      "2019-08-18 18:23:25,172 DEBUG run_websocket_client.py(l:136) - At least one worker ran out of data, stopping.\n",
      "2019-08-18 18:23:29,217 DEBUG run_websocket_client.py(l:158) - \n",
      "\n",
      "2019-08-18 18:23:29,217 INFO run_websocket_client.py(l:162) - Test set: Average loss: 0.2076, Accuracy: 9379/10000 (94%)\n",
      "\n"
     ]
    }
   ],
   "source": [
    "# start the training\n",
    "\n",
    "for epoch in range(1, args.epochs + 1):\n",
    "    print(\"Starting epoch {}/{}\".format(epoch, args.epochs))\n",
    "    model = rwc.train(model, device, federated_train_loader, args.lr, args.federate_after_n_batches)\n",
    "    rwc.test(model, device, test_loader)"
   ]
  },
  {
   "cell_type": "code",
   "execution_count": null,
   "metadata": {},
   "outputs": [],
   "source": []
  },
  {
   "cell_type": "code",
   "execution_count": null,
   "metadata": {},
   "outputs": [],
   "source": []
  },
  {
   "cell_type": "code",
   "execution_count": null,
   "metadata": {},
   "outputs": [],
   "source": [
    "   "
   ]
  }
 ],
 "metadata": {
  "kernelspec": {
   "display_name": "Python 3",
   "language": "python",
   "name": "python3"
  },
  "language_info": {
   "codemirror_mode": {
    "name": "ipython",
    "version": 3
   },
   "file_extension": ".py",
   "mimetype": "text/x-python",
   "name": "python",
   "nbconvert_exporter": "python",
   "pygments_lexer": "ipython3",
   "version": "3.6.5"
  }
 },
 "nbformat": 4,
 "nbformat_minor": 2
}
